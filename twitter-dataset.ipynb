{
 "cells": [
  {
   "cell_type": "markdown",
   "metadata": {},
   "source": [
    "# Building Dataset from Twitter"
   ]
  },
  {
   "cell_type": "code",
   "execution_count": null,
   "metadata": {},
   "outputs": [],
   "source": [
    "# Your Twitter app credentials need to be added here - go to https://developer.twitter.com/en/apps\n",
    "\n",
    "import tweepy\n",
    "\n",
    "consumer_key = ''\n",
    "consumer_key_secret = ''\n",
    "access_token = ''\n",
    "access_token_secret = ''"
   ]
  },
  {
   "cell_type": "code",
   "execution_count": null,
   "metadata": {},
   "outputs": [],
   "source": [
    "twitter_auth = tweepy.OAuthHandler(consumer_key, consumer_key_secret)\n",
    "api = tweepy.API(twitter_auth)\n",
    "\n",
    "tweets = api.search(\"trump\", count=100) # Search term goes here\n",
    "\n",
    "print(tweets)"
   ]
  },
  {
   "cell_type": "code",
   "execution_count": null,
   "metadata": {},
   "outputs": [],
   "source": [
    "import re\n",
    "import pandas as pd\n",
    "from textblob import TextBlob\n",
    "\n",
    "# Storing features from the tweets that will be useful for ML later\n",
    "# This is broken into features relating to the tweet (prefixed with 'tweet_') and use related ones (prefixed with 'user_')\n",
    "df = pd.DataFrame(columns=('tweet_text', 'tweet_sentiment', 'tweet_subjectivity',\n",
    "                           'user_followers_count', 'user_friends_count',\n",
    "                           'user_account_age', 'user_verified',\n",
    "                           'user_favourites_count', 'user_tweets',\n",
    "                           'tweet_retweeted', 'tweet_retweet_count', 'tweet_favorite_count'))\n",
    "\n",
    "# Remove duplicates\n",
    "df.sort_values(\"tweet_text\", inplace = True) \n",
    "df.drop_duplicates(subset =\"tweet_text\", keep = False, inplace = True) \n",
    "\n",
    "for tweet in tweets:\n",
    "    sentimentText = TextBlob(tweet.text)\n",
    "    df = df.append({'tweet_text': re.sub(r'http\\S+', '', tweet.text), # Removing any URL's in the tweet text here\n",
    "                    'tweet_sentiment': sentimentText.sentiment.polarity,\n",
    "                    'tweet_subjectivity': sentimentText.sentiment.subjectivity,\n",
    "                    'user_followers_count': tweet.user.followers_count, \n",
    "                    'user_friends_count': tweet.user.friends_count,\n",
    "                    'user_account_age': tweet.user.created_at, \n",
    "                    'user_verified': tweet.user.verified,\n",
    "                    'user_favourites_count': tweet.user.favourites_count,\n",
    "                    'user_tweets': tweet.user.statuses_count,\n",
    "                    'tweet_retweeted': tweet.retweeted,\n",
    "                    'tweet_retweet_count': tweet.retweet_count,\n",
    "                    'tweet_favorite_count': tweet.favorite_count},\n",
    "                   ignore_index=True)\n",
    "\n",
    "df.head()"
   ]
  },
  {
   "cell_type": "markdown",
   "metadata": {},
   "source": [
    "### Create other features for model"
   ]
  },
  {
   "cell_type": "code",
   "execution_count": null,
   "metadata": {},
   "outputs": [],
   "source": [
    "# Tweet length\n",
    "df['tweet_text_length'] = df['tweet_text'].apply(lambda x: len(x) - x.count(\" \"))\n",
    "\n",
    "# Count of punctuation in the tweet\n",
    "import string\n",
    "\n",
    "def count_punc(text):\n",
    "    count = sum([1 for char in text if char in string.punctuation])\n",
    "    return count\n",
    "\n",
    "df['tweet_text_punc_count'] = df['tweet_text'].apply(lambda x: count_punc(x))\n",
    "\n",
    "df.head()"
   ]
  },
  {
   "cell_type": "markdown",
   "metadata": {},
   "source": [
    "### Add a wordcloud"
   ]
  },
  {
   "cell_type": "code",
   "execution_count": null,
   "metadata": {},
   "outputs": [],
   "source": [
    "import nltk\n",
    "from wordcloud import WordCloud, STOPWORDS\n",
    "import matplotlib.pyplot as plt\n",
    "from nltk.corpus import stopwords \n",
    "\n",
    "# Setup stop words first\n",
    "stop_words = stopwords.words('english') \n",
    "new_stopwords = ['RT']\n",
    "stop_words.extend(new_stopwords)\n",
    "stop_words = set(stop_words)\n",
    "\n",
    "# Remove stopwords\n",
    "text = \" \".join(review for review in df.tweet_text)\n",
    "clean_text = \" \".join(word for word in text.split() if word not in stop_words)\n",
    "\n",
    "print (\"There are {} words in all tweets.\".format(len(text)))\n",
    "print (\"There are {} words in  all tweets with stopwords removed.\".format(len(clean_text)))\n",
    "\n",
    "# Generate a word cloud image\n",
    "wordcloud = WordCloud(background_color=\"white\").generate(clean_text)\n",
    "\n",
    "plt.figure( figsize=(15,7))\n",
    "plt.axis(\"off\")\n",
    "plt.imshow(wordcloud, interpolation='bilinear')"
   ]
  },
  {
   "cell_type": "markdown",
   "metadata": {},
   "source": [
    "### Sentiment of tweets"
   ]
  },
  {
   "cell_type": "code",
   "execution_count": null,
   "metadata": {},
   "outputs": [],
   "source": [
    "# Sentiment of the tweets - using TextBlob for this\n",
    "print (\"Total Tweet count: {}\" .format(len(df)))\n",
    "print (\"The average sentiment of the tweets is {} \".format(df[\"tweet_sentiment\"].mean()))\n",
    "\n",
    "positive_tweets_count = 0\n",
    "negative_tweets_count = 0\n",
    "neutral_tweets_count = 0\n",
    "\n",
    "for index, tweet in df.iterrows():\n",
    "    #print(tweet['tweet_sentiment'])\n",
    "    if tweet['tweet_sentiment'] > 0:\n",
    "        positive_tweets_count += 1\n",
    "    elif tweet['tweet_sentiment'] < 0:\n",
    "        negative_tweets_count += 1\n",
    "    else:\n",
    "        neutral_tweets_count += 1\n",
    "\n",
    "print(\"\\nPercentage of positive tweets: {}%\".format(positive_tweets_count*100/len(df)))\n",
    "print(\"Percentage of negative tweets: {}%\".format(negative_tweets_count*100/len(df)))\n",
    "print(\"Percentage of neutral tweets: {}%\".format(neutral_tweets_count*100/len(df)))"
   ]
  }
 ],
 "metadata": {
  "kernelspec": {
   "display_name": "Python 3",
   "language": "python",
   "name": "python3"
  },
  "language_info": {
   "codemirror_mode": {
    "name": "ipython",
    "version": 3
   },
   "file_extension": ".py",
   "mimetype": "text/x-python",
   "name": "python",
   "nbconvert_exporter": "python",
   "pygments_lexer": "ipython3",
   "version": "3.7.6"
  }
 },
 "nbformat": 4,
 "nbformat_minor": 4
}
